{
 "cells": [
  {
   "attachments": {},
   "cell_type": "markdown",
   "metadata": {},
   "source": [
    "# Getting the data from the API\n",
    "\n",
    "With requests you can access the url and directly get the response from the server."
   ]
  },
  {
   "cell_type": "code",
   "execution_count": 2,
   "metadata": {},
   "outputs": [],
   "source": [
    "import requests"
   ]
  },
  {
   "attachments": {},
   "cell_type": "markdown",
   "metadata": {},
   "source": [
    "First we need to define the url with the messages we want to predict our model the probability of being spam for."
   ]
  },
  {
   "cell_type": "code",
   "execution_count": 3,
   "metadata": {},
   "outputs": [],
   "source": [
    "url = 'http://0.0.0.0:9696/spam_detection_path/'\n",
    "email_spam = 'Congrats! 1 year special cinema pass for 2 is yours. call 09061209465 now!'\n",
    "email_ham = 'Finished class where are you.'\n",
    "url_f = url + email_ham"
   ]
  },
  {
   "attachments": {},
   "cell_type": "markdown",
   "metadata": {},
   "source": [
    "Then we can use the get method to get the response from the server and save it as a JSON object."
   ]
  },
  {
   "cell_type": "code",
   "execution_count": 4,
   "metadata": {},
   "outputs": [
    {
     "name": "stdout",
     "output_type": "stream",
     "text": [
      "{'label': 'ham', 'spam_probability': 0.025219084532752886}\n"
     ]
    }
   ],
   "source": [
    "r = requests.get(url_f)\n",
    "spam_ham = r.json()\n",
    "print(spam_ham)"
   ]
  },
  {
   "cell_type": "code",
   "execution_count": 5,
   "metadata": {},
   "outputs": [
    {
     "name": "stdout",
     "output_type": "stream",
     "text": [
      "We got ham!\n"
     ]
    }
   ],
   "source": [
    "print(f'We got {spam_ham[\"label\"]}!')"
   ]
  },
  {
   "cell_type": "code",
   "execution_count": 6,
   "metadata": {},
   "outputs": [
    {
     "name": "stdout",
     "output_type": "stream",
     "text": [
      "{'label': 'ham', 'spam_probability': 0.1850912257358044}\n",
      "We got ham!\n"
     ]
    }
   ],
   "source": [
    "# e.g 0\n",
    "\n",
    "spam_0 = 'Stand a chance to get 500 bitcoin! free vouchers available.'\n",
    "ham_0 = 'Click to get the access code'\n",
    "url_f0 = url + ham_0\n",
    "\n",
    "r0 = requests.get(url_f0)\n",
    "spam_ham_0 = r0.json()\n",
    "print(spam_ham_0)\n",
    "\n",
    "print(f'We got {spam_ham_0[\"label\"]}!')"
   ]
  },
  {
   "cell_type": "code",
   "execution_count": 10,
   "metadata": {},
   "outputs": [
    {
     "name": "stdout",
     "output_type": "stream",
     "text": [
      "{'label': 'ham', 'spam_probability': 0.024845833306338532}\n",
      "We got ham!\n"
     ]
    }
   ],
   "source": [
    "# e.g 1\n",
    "\n",
    "spam_1 = 'Click! Click!! Click link NOW!!! Click here to get 1000 free vouchers!!'\n",
    "ham_1 = 'not working.'\n",
    "url_f1 = url + ham_1\n",
    "\n",
    "r1 = requests.get(url_f1)\n",
    "spam_ham_1 = r1.json()\n",
    "print(spam_ham_1)\n",
    "\n",
    "print(f'We got {spam_ham_1[\"label\"]}!')"
   ]
  }
 ],
 "metadata": {
  "interpreter": {
   "hash": "4377ce1610b192060fe9c3735885e3d69e50923710695771300c002357e06a7e"
  },
  "kernelspec": {
   "display_name": "Python 3.9.4 64-bit ('.venv': venv)",
   "language": "python",
   "name": "python3"
  },
  "language_info": {
   "codemirror_mode": {
    "name": "ipython",
    "version": 3
   },
   "file_extension": ".py",
   "mimetype": "text/x-python",
   "name": "python",
   "nbconvert_exporter": "python",
   "pygments_lexer": "ipython3",
   "version": "3.10.12"
  },
  "orig_nbformat": 4
 },
 "nbformat": 4,
 "nbformat_minor": 2
}
