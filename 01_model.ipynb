{
 "cells": [
  {
   "attachments": {},
   "cell_type": "markdown",
   "metadata": {},
   "source": [
    "# Deploying a model using FastAPI and Docker\n",
    "\n",
    "Before we can deploy our model, we need to build it. So let's start with that and build a classification model that classifies email as spam or ham. We will then save it using pickle and using it in a fastapi server."
   ]
  },
  {
   "cell_type": "code",
   "execution_count": null,
   "metadata": {},
   "outputs": [],
   "source": [
    "import pandas as pd\n",
    "import numpy as np\n",
    "\n",
    "import re # regex library\n",
    "\n",
    "from sklearn.model_selection import train_test_split\n",
    "from sklearn.pipeline import Pipeline\n",
    "from sklearn.linear_model import LogisticRegression\n",
    "from sklearn.feature_extraction.text import TfidfVectorizer\n",
    "from sklearn.metrics import accuracy_score, classification_report\n",
    "from sklearn.linear_model import LogisticRegression\n",
    "\n",
    "import skops.io as sio"
   ]
  },
  {
   "attachments": {},
   "cell_type": "markdown",
   "metadata": {},
   "source": [
    "## Building the Model"
   ]
  },
  {
   "cell_type": "code",
   "execution_count": null,
   "metadata": {},
   "outputs": [],
   "source": [
    "# Read the Data\n",
    "data = pd.read_csv('./data/data.csv')\n",
    "\n",
    "# Text Preprocessing\n",
    "def preprocessor(text):\n",
    "    text = re.sub('<[^>]*>', '', text) # Effectively removes HTML markup tags\n",
    "    emoticons = re.findall('(?::|;|=)(?:-)?(?:\\)|\\(|D|P)', text)\n",
    "    text = re.sub('[\\W]+', ' ', text.lower()) + ' '.join(emoticons).replace('-', '')\n",
    "    return text\n",
    "\n",
    "# Train, Test Split\n",
    "X = data['Message'].apply(preprocessor)\n",
    "y = data['Category']\n",
    "\n",
    "X_train, X_test, y_train, y_test = train_test_split(X, y, test_size=0.3, random_state=42)\n",
    "\n",
    "# Training a Logistic Regression Pipeline\n",
    "tfidf = TfidfVectorizer(strip_accents=None, lowercase=False, \n",
    "                        max_features=700, \n",
    "                        ngram_range=(1,1))\n",
    "\n",
    "log_reg_pipe = Pipeline([('vectorizer', tfidf),\n",
    "                         ('log_reg', LogisticRegression(solver='lbfgs'))])\n",
    "\n",
    "log_reg_pipe.fit(X_train, y_train)\n",
    "\n",
    "y_pred = log_reg_pipe.predict(X_test)\n",
    "\n",
    "print(classification_report(y_test, y_pred))\n",
    "print('Accuracy: {} %'.format(100 * accuracy_score(y_test, y_pred)))\n",
    "\n",
    "# Saving the Pipeline\n",
    "with open('model.bin', 'wb') as f_out:\n",
    "    sio.dump(log_reg_pipe, f_out)"
   ]
  },
  {
   "attachments": {},
   "cell_type": "markdown",
   "metadata": {},
   "source": [
    "Now that we have our model/pipeline saved as ```model.bin```, we can continue with deploying our model. There are several ways to do this. ```Flask``` and ```FastAPI``` are two of the more common ones. We will use the fastapi framework to create a fastapi server.\n",
    "The created fastapi server can be used to deploy our model, so we can call our model with a link to make a prediction.\n",
    "\n",
    "You can see that code in the ```main.py``` file. Afterwards you can use the Dockerfile to create a Dockerimage which than can be deployed to a Docker registry or run locally as a docker container.\n",
    "\n",
    "Why you shouldn't use pickle for saving your model: [Link](https://medium.com/ochrona/python-pickle-is-notoriously-insecure-d6651f1974c9). You can use skops or ONNX instead."
   ]
  }
 ],
 "metadata": {
  "interpreter": {
   "hash": "7ca48ee1797aabb88f85c01a4b840abd5e6d5c99ee473f3c2ae0aebd7cb0f279"
  },
  "kernelspec": {
   "display_name": "Python 3.9.4 64-bit ('.venv': venv)",
   "language": "python",
   "name": "python3"
  },
  "language_info": {
   "codemirror_mode": {
    "name": "ipython",
    "version": 3
   },
   "file_extension": ".py",
   "mimetype": "text/x-python",
   "name": "python",
   "nbconvert_exporter": "python",
   "pygments_lexer": "ipython3",
   "version": "3.11.3"
  },
  "orig_nbformat": 4
 },
 "nbformat": 4,
 "nbformat_minor": 2
}
